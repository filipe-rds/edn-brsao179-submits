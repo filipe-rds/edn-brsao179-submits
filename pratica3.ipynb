{
 "cells": [
  {
   "cell_type": "markdown",
   "id": "db1074f4",
   "metadata": {},
   "source": [
    "1- Calculadora Básica\n",
    "\n",
    "Desenvolva uma calculadora em Python que realize as quatro operações básicas (adição, subtração, multiplicação e divisão)\n",
    "entre dois números. A calculadora deve ser capaz de lidar com diversos tipos de erros de entrada e operação. \n",
    "Siga as especificações abaixo:\n",
    "\n",
    "- A calculadora deve solicitar ao usuário que insira dois números e uma operação.​\n",
    "\n",
    "- As operações válidas são: + (adição), - (subtração), * (multiplicação) e / (divisão).​\n",
    "\n",
    "- O programa deve continuar solicitando entradas até que uma operação válida seja concluída.​\n",
    "\n",
    "Trate os seguintes erros:​\n",
    "\n",
    "- Entrada inválida (não numérica) para os números​\n",
    "\n",
    "- Divisão por zero​\n",
    "\n",
    "- Operação inválida​\n",
    "\n",
    "Observação: Use try/except para capturar e tratar os erros apropriadamente.​\n",
    "\n",
    "Após cada erro, o programa deve informar o usuário sobre o erro e solicitar nova entrada.​\n",
    "\n",
    "Quando uma operação é concluída com sucesso, exiba o resultado e encerre o programa.\n"
   ]
  },
  {
   "cell_type": "code",
   "execution_count": null,
   "id": "cf7cc610",
   "metadata": {},
   "outputs": [
    {
     "name": "stdout",
     "output_type": "stream",
     "text": [
      "Número 1: 5\n",
      "Número 2: 0\n",
      "Operação escolhida: /\n",
      "Error: Divisão por zero não é permitida!\n",
      "Tente novamente.\n",
      "\n",
      "Número 1: 5\n",
      "Número 2: 2\n",
      "Operação escolhida: *\n",
      "Resultado: 10\n"
     ]
    }
   ],
   "source": [
    "# Exceções personalizadas\n",
    "class DivisaoPorZeroError(Exception):\n",
    "    def __init__(self):\n",
    "        super().__init__(\"Error: Divisão por zero não é permitida!\")\n",
    "\n",
    "# Dicionário de operações usando lambda e exceções\n",
    "switch = {\n",
    "    \"+\": lambda a, b: a + b,\n",
    "    \"-\": lambda a, b: a - b,\n",
    "    \"*\": lambda a, b: a * b,\n",
    "    \"/\": lambda a, b: a / b if b != 0 else (_ for _ in ()).throw(DivisaoPorZeroError()),\n",
    "}\n",
    "\n",
    "def obter_numeros():\n",
    "    while True:\n",
    "        try:\n",
    "            a = int(input(\"Digite o primeiro número: \"))\n",
    "            b = int(input(\"Digite o segundo número: \"))\n",
    "            print(f'Número 1: {a}')\n",
    "            print(f\"Número 2: {b}\")\n",
    "            return a, b\n",
    "        except ValueError:\n",
    "            print(\"Error: Entrada inválida! Você deve inserir números inteiros.\")\n",
    "            print(\"Tente novamente.\\n\")\n",
    "\n",
    "\n",
    "def obter_operacao():\n",
    "    while True:\n",
    "        operacao = input(\"Digite um operador (+, -, *, /): \")\n",
    "        if operacao in switch:\n",
    "            print(f\"Operação escolhida: {operacao}\")\n",
    "            return operacao\n",
    "        else:\n",
    "            print(\"Error: Operação inválida! Tente novamente.\")\n",
    "            print(\"Tente novamente.\\n\")\n",
    "\n",
    "\n",
    "def calcular():\n",
    "    while True:\n",
    "        a, b = obter_numeros()\n",
    "        operacao = obter_operacao()\n",
    "\n",
    "        try:\n",
    "            resultado = switch.get(operacao)(a, b)\n",
    "            print(f\"Resultado: {resultado}\")\n",
    "            break  # Encerra o programa após um cálculo bem-sucedido\n",
    "        except Exception as e:\n",
    "            print(f\"{e}\")\n",
    "            print(\"Tente novamente.\\n\")\n",
    "\n",
    "\n",
    "if __name__ == \"__main__\":\n",
    "    calcular()"
   ]
  },
  {
   "cell_type": "markdown",
   "id": "d633865b",
   "metadata": {},
   "source": [
    "2- Registrador de Notas \n",
    "\n",
    "Crie um programa que permita a um professor registrar as notas de uma turma. \n",
    "- O programa deve continuar solicitando notas até que o professor digite 'fim'. Notas válidas são de 0 a 10. \n",
    "- O programa deve ignorar notas inválidas e continuar solicitando. \n",
    "\n",
    "No final, deve exibir a média da turma.\n",
    "Notas = [] -> len(Notas)​\n"
   ]
  },
  {
   "cell_type": "code",
   "execution_count": 13,
   "id": "9505ef16",
   "metadata": {},
   "outputs": [
    {
     "name": "stdout",
     "output_type": "stream",
     "text": [
      "Nota inserida: 5\n",
      "Nota inserida: 6\n",
      "Nota inserida: 7\n",
      "Média das notas: 6.00\n"
     ]
    }
   ],
   "source": [
    "def media(lista):\n",
    "    return sum(lista) / len(lista)\n",
    "\n",
    "def registrador():\n",
    "    lista = []\n",
    "    while(True):\n",
    "        resp = input(\"Insira a nota que deseja computar(Envie 'fim' caso queria encerrar os registros): \")\n",
    "        if(resp != 'fim'):\n",
    "            print(f\"Nota inserida: {resp}\")\n",
    "            try:\n",
    "                value = float(resp)\n",
    "                lista.append(value)\n",
    "            except ValueError:\n",
    "                print('Valor inválido, tente novamente!!')\n",
    "        else:\n",
    "            break\n",
    "\n",
    "    print(f'Média das notas: {media(lista):.2f}')\n",
    "\n",
    "if __name__ == \"__main__\":\n",
    "    registrador()"
   ]
  },
  {
   "cell_type": "markdown",
   "id": "3c86bad3",
   "metadata": {},
   "source": [
    "3- Verificador de nível de senha\n",
    "\n",
    "Crie um programa que verifique se uma senha é forte. Uma senha forte deve ter pelo menos 8 caracteres \n",
    "e conter pelo menos um número.\n",
    " \n",
    "O programa deve continuar pedindo senhas até que uma válida seja inserida ou o usuário digite 'sair'."
   ]
  },
  {
   "cell_type": "code",
   "execution_count": null,
   "id": "bc38070f",
   "metadata": {},
   "outputs": [
    {
     "name": "stdout",
     "output_type": "stream",
     "text": [
      "Sua senha é forte!\n",
      "Sua senha é fraca!\n"
     ]
    }
   ],
   "source": [
    "import getpass\n",
    "\n",
    "valida_senha = lambda senha: all(\n",
    "    [\n",
    "        len(senha) >= 8,  # Mínimo de 8 caracteres\n",
    "        any(c.isupper() for c in senha),  # Pelo menos uma letra maiúscula\n",
    "        any(c.isdigit() for c in senha),  # Pelo menos um número\n",
    "        any(c in \"!@#$%^&*()-_+=<>?/{}[]\" for c in senha),  # Pelo menos um caractere especial\n",
    "    ]\n",
    ")\n",
    "while(True):\n",
    "    senha = getpass.getpass(\"Digite sua senha (envie 'sair' para encerrar): \")\n",
    "    if (senha == 'sair'):\n",
    "        break\n",
    "    \n",
    "    if(valida_senha(senha)):\n",
    "        print('Sua senha é forte!')\n",
    "    else:\n",
    "        print('Sua senha é fraca!')\n",
    "    \n",
    "    "
   ]
  },
  {
   "cell_type": "markdown",
   "id": "03042695",
   "metadata": {},
   "source": [
    "4- Verificador de números ímpares e pares\n",
    "\n",
    "Crie um programa que solicite ao usuário que insira números inteiros:\n",
    "\n",
    "- O programa deve continuar solicitando números até que o usuário digite 'fim'. \n",
    "- Para cada número inserido, o programa deve informar se é par ou ímpar. \n",
    "- Se o usuário inserir algo que não seja um número inteiro, o programa deve informar o erro e continuar. \n",
    "\n",
    "No final, o programa deve exibir a quantidade de números pares e ímpares inseridos."
   ]
  },
  {
   "cell_type": "code",
   "execution_count": 14,
   "id": "138cf2e8",
   "metadata": {},
   "outputs": [
    {
     "name": "stdout",
     "output_type": "stream",
     "text": [
      "Entrada: 5\n",
      "Seu número é ímpar!\n",
      "Entrada: a\n",
      "Valor inválido, tente novamente!!\n",
      "Entrada: 4\n",
      "Seu número é par!\n"
     ]
    }
   ],
   "source": [
    "verificador_par= lambda numero: numero % 2 == 0\n",
    "\n",
    "while True:\n",
    "    entrada = input(\"Digite o número (envie 'fim' para encerrar): \")\n",
    "    if(entrada != 'fim'):\n",
    "        print(f\"Entrada: {entrada}\")\n",
    "        try:\n",
    "            valor = int(entrada)\n",
    "            resposta = (\n",
    "                \"Seu número é par!\" if verificador_par(valor) else \"Seu número é ímpar!\"\n",
    "            )\n",
    "            print(resposta)\n",
    "        except ValueError:\n",
    "            print('Valor inválido, tente novamente!!')\n",
    "    else:\n",
    "        break"
   ]
  }
 ],
 "metadata": {
  "kernelspec": {
   "display_name": "Python 3",
   "language": "python",
   "name": "python3"
  },
  "language_info": {
   "codemirror_mode": {
    "name": "ipython",
    "version": 3
   },
   "file_extension": ".py",
   "mimetype": "text/x-python",
   "name": "python",
   "nbconvert_exporter": "python",
   "pygments_lexer": "ipython3",
   "version": "3.12.10"
  }
 },
 "nbformat": 4,
 "nbformat_minor": 5
}
