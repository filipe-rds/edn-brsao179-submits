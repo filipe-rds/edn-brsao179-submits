{
 "cells": [
  {
   "cell_type": "markdown",
   "id": "e0eb355f",
   "metadata": {},
   "source": [
    "1- Conversor de Moeda\n",
    "\n",
    "Crie um programa que converte um valor em reais para dólares e euros. Use os seguintes dados:\n",
    "\n",
    "* Valor em reais: R$ 100.00\n",
    "* Taxa do dólar: R$ 5.20\n",
    "* Taxa do euro: R$ 6.15\n",
    "\n",
    "O programa deve calcular e exibir os valores convertidos, arredondando para duas casas decimais."
   ]
  },
  {
   "cell_type": "code",
   "execution_count": 13,
   "id": "f088cf8d",
   "metadata": {},
   "outputs": [
    {
     "name": "stdout",
     "output_type": "stream",
     "text": [
      "Total em reais: R$100,00\n",
      "Total em dólares: $520,00\n",
      "Total em euros: €615,00\n"
     ]
    }
   ],
   "source": [
    "# Constantes para conversão\n",
    "dolar = 5.20\n",
    "euro = 6.15\n",
    "\n",
    "valor_reais = float(\n",
    "    input(\"Insira o valor em reais a ser convertido: \").replace(\",\", \".\")\n",
    ")\n",
    "\n",
    "print(f\"Total em reais: R${format(valor_reais, '.2f').replace('.', ',')}\")\n",
    "print(f\"Total em dólares: ${format(valor_reais * dolar, '.2f').replace('.', ',')}\")\n",
    "print(f\"Total em euros: €{format(valor_reais * euro, '.2f').replace('.', ',')}\")"
   ]
  },
  {
   "cell_type": "markdown",
   "id": "71abb0ec",
   "metadata": {},
   "source": [
    "2- Calculadora de Desconto\n",
    "\n",
    "Desenvolva um programa que calcula o desconto em uma loja. Use as seguintes informações:\n",
    "\n",
    "* Nome do produto: \"Camiseta\"\n",
    "* Preço original: R$ 50.00\n",
    "* Porcentagem de desconto: 20%\n",
    "  \n",
    "O programa deve calcular o valor do desconto e o preço final, exibindo todos os detalhes."
   ]
  },
  {
   "cell_type": "code",
   "execution_count": 15,
   "id": "1e4d3cb6",
   "metadata": {},
   "outputs": [
    {
     "name": "stdout",
     "output_type": "stream",
     "text": [
      "Produto: Camiseta\n",
      "Preço Original: R$50,00\n",
      "Desconto: 20.0%\n",
      "Valor do desconto: R$10,00\n",
      "Preço Final: R$40,00\n"
     ]
    }
   ],
   "source": [
    "nome = input(\"Digite o nome do produto: \")\n",
    "preco_original = float(input(\"Digite o preço original em R$: \").replace(\",\", \".\"))\n",
    "desconto = (float (input(\"Digite a porcentagem de desconto (0-100): \").replace(\"%\",\"\"))/100)\n",
    "\n",
    "valor_desconto = preco_original * desconto\n",
    "preco_final = preco_original - valor_desconto\n",
    "\n",
    "print(f\"Produto: {nome}\")\n",
    "print(f\"Preço Original: R${format(preco_original, '.2f').replace('.', ',')}\")\n",
    "print(f\"Desconto: {desconto*100}%\")\n",
    "print(f\"Valor do desconto: R${format(valor_desconto, '.2f').replace('.', ',')}\")\n",
    "print(f\"Preço Final: R${format(preco_final, '.2f').replace('.', ',')}\")"
   ]
  },
  {
   "cell_type": "markdown",
   "id": "3826ea52",
   "metadata": {},
   "source": [
    "3- Calculadora de Média Escolar\n",
    "\n",
    "Crie um programa que calcula a média escolar de um aluno. Use as seguintes notas:\n",
    "\n",
    "* Nota 1: 7.5\n",
    "* Nota 2: 8.0\n",
    "* Nota 3: 6.5\n",
    "\n",
    "O programa deve calcular a média e exibir todas as notas e o resultado final, arredondando para duas casas decimais."
   ]
  },
  {
   "cell_type": "code",
   "execution_count": null,
   "id": "9bf56378",
   "metadata": {},
   "outputs": [
    {
     "name": "stdout",
     "output_type": "stream",
     "text": [
      "Nota 1: 7,50\n",
      "Nota 2: 8,00\n",
      "Nota 3: 6,50\n",
      "A média das suas notas: 7,33\n"
     ]
    }
   ],
   "source": [
    "nota_acc = 0\n",
    "\n",
    "for i in range (3):\n",
    "    nota = float (input(f\"Insira a nota {i+1}:\").replace(\",\",\".\"))\n",
    "    print(f\"Nota {i+1}: {format(nota,'.2f').replace('.', ',')}\")\n",
    "    nota_acc += nota\n",
    "\n",
    "media = nota_acc / 3\n",
    "\n",
    "print(f\"A média das suas notas: {format(media,'.2f').replace('.', ',')}\")"
   ]
  },
  {
   "cell_type": "markdown",
   "id": "f88bd51a",
   "metadata": {},
   "source": [
    "4- Calculadora de Consumo de Combustível\n",
    "\n",
    "Desenvolva um programa que calcula o consumo médio de combustível de um veículo. Use os seguintes dados:\n",
    "\n",
    "* Distância percorrida: 300 km\n",
    "* Combustível gasto: 25 litros\n",
    "  \n",
    "O programa deve calcular o consumo médio (km/l) e exibir todos os dados da viagem, incluindo o resultado final arredondado para duas casas decimais."
   ]
  },
  {
   "cell_type": "code",
   "execution_count": 25,
   "id": "2628147a",
   "metadata": {},
   "outputs": [
    {
     "name": "stdout",
     "output_type": "stream",
     "text": [
      "Distância percorrida: 300,00 km\n",
      "Combustível gasto: 25,00 l\n",
      "Consumo médio: 12,00 km/l\n"
     ]
    }
   ],
   "source": [
    "distancia = float (input(\"Digite a distância percorrida pelo veículo em km: \").replace(\",\",\".\"))\n",
    "combustivel = float (input(\"Digite a quantidade de litros em combustível gasto no veículo: \").replace(\",\",\".\"))\n",
    "\n",
    "consumo_medio = distancia / combustivel\n",
    "\n",
    "print(f\"Distância percorrida: {format(distancia, '.2f').replace('.', ',')} km\")\n",
    "print(f\"Combustível gasto: {format(combustivel, '.2f').replace('.', ',')} l\")\n",
    "print(f\"Consumo médio: {format(consumo_medio, '.2f').replace('.', ',')} km/l\")"
   ]
  }
 ],
 "metadata": {
  "kernelspec": {
   "display_name": "Python 3",
   "language": "python",
   "name": "python3"
  },
  "language_info": {
   "codemirror_mode": {
    "name": "ipython",
    "version": 3
   },
   "file_extension": ".py",
   "mimetype": "text/x-python",
   "name": "python",
   "nbconvert_exporter": "python",
   "pygments_lexer": "ipython3",
   "version": "3.13.1"
  }
 },
 "nbformat": 4,
 "nbformat_minor": 5
}
