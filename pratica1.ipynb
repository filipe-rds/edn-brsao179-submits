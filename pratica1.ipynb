{
 "cells": [
  {
   "cell_type": "markdown",
   "id": "ba1df5be",
   "metadata": {},
   "source": [
    "1- Programa de Saudação\n",
    "\n",
    "Crie um programa que imprima a mensagem \"Olá, mundo!\" na tela."
   ]
  },
  {
   "cell_type": "code",
   "execution_count": null,
   "id": "241a3d72",
   "metadata": {},
   "outputs": [
    {
     "name": "stdout",
     "output_type": "stream",
     "text": [
      "Olá, mundo!\n"
     ]
    }
   ],
   "source": [
    "print('Olá, mundo!')"
   ]
  },
  {
   "cell_type": "markdown",
   "id": "fe480e51",
   "metadata": {},
   "source": [
    "2- Calculadora de Soma\n",
    "\n",
    "Desenvolva um programa que soma dois números. Use as variáveis numero1 = 12 e numero2 = 14. O programa deve calcular a soma e exibir o resultado."
   ]
  },
  {
   "cell_type": "code",
   "execution_count": null,
   "id": "0843e59b",
   "metadata": {},
   "outputs": [
    {
     "name": "stdout",
     "output_type": "stream",
     "text": [
      "Resultado: 26.0\n"
     ]
    }
   ],
   "source": [
    "n1 = float(input('Insira o primeiro número: '))\n",
    "n2 = float(input('Insira o segundo número: '))\n",
    "\n",
    "print(f'Resultado: {n1+n2}')"
   ]
  },
  {
   "cell_type": "markdown",
   "id": "be757168",
   "metadata": {},
   "source": [
    "3- Calculadora de Volume\n",
    "\n",
    "Crie um programa que calcula o volume de uma caixa retangular. Use as seguintes dimensões:\n",
    "\n",
    "* Comprimento: 12 cm\n",
    "* Largura: 14 cm\n",
    "* Altura: 20 cm\n",
    "\n",
    "O programa deve calcular o volume e exibir o resultado em cm³."
   ]
  },
  {
   "cell_type": "code",
   "execution_count": null,
   "id": "1d9af55f",
   "metadata": {},
   "outputs": [
    {
     "name": "stdout",
     "output_type": "stream",
     "text": [
      "Resultado: 3360.0 cm³\n"
     ]
    }
   ],
   "source": [
    "comprimento = float(input('Comprimento: '))\n",
    "largura = float(input('Largura: '))\n",
    "altura = float(input('Altura: '))\n",
    "\n",
    "print(f'Resultado: {comprimento*largura*altura} cm³')"
   ]
  },
  {
   "cell_type": "markdown",
   "id": "f02731fc",
   "metadata": {},
   "source": [
    "4- Calculadora de Preço Total\n",
    "\n",
    "Desenvolva um programa que calcula o preço total de uma compra. Use as seguintes informações:\n",
    "\n",
    "* Nome do produto: \"Cadeira Infantil\"\n",
    "* Preço unitário: R$ 12.40\n",
    "* Quantidade: 3\n",
    "\n",
    "O programa deve calcular o preço total e exibir todas as informações, incluindo o resultado final."
   ]
  },
  {
   "cell_type": "code",
   "execution_count": 13,
   "id": "115f38a1",
   "metadata": {},
   "outputs": [
    {
     "name": "stdout",
     "output_type": "stream",
     "text": [
      " Produto: Cadeira Infantil \n",
      " Preço: R$12.40 \n",
      " Quantidade: 3 \n",
      " Total: R$37.20\n"
     ]
    }
   ],
   "source": [
    "produto = input('Nome do produto: ')\n",
    "preco = float(input('Preço unitário: R$'))\n",
    "quantidade = int(input('Quantidade: '))\n",
    "total = preco * quantidade\n",
    "\n",
    "print(\n",
    "    f\" Produto: {produto} \\n Preço: R${preco:.2f} \\n Quantidade: {quantidade} \\n Total: R${total:.2f}\"\n",
    ")"
   ]
  }
 ],
 "metadata": {
  "kernelspec": {
   "display_name": "Python 3",
   "language": "python",
   "name": "python3"
  },
  "language_info": {
   "codemirror_mode": {
    "name": "ipython",
    "version": 3
   },
   "file_extension": ".py",
   "mimetype": "text/x-python",
   "name": "python",
   "nbconvert_exporter": "python",
   "pygments_lexer": "ipython3",
   "version": "3.13.1"
  }
 },
 "nbformat": 4,
 "nbformat_minor": 5
}
